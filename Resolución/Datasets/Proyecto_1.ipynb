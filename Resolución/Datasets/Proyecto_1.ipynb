{
 "cells": [
  {
   "cell_type": "code",
   "execution_count": 1,
   "metadata": {},
   "outputs": [],
   "source": [
    "import numpy as np\n",
    "import pandas as pd\n",
    "import matplotlib.pyplot as plt\n",
    "import seaborn as sns"
   ]
  },
  {
   "cell_type": "code",
   "execution_count": 34,
   "metadata": {},
   "outputs": [],
   "source": [
    "'Cargamos todos los datasets con los que vamos a trabajar'\n",
    "\n",
    "venta = pd.read_csv('DS-PI-ProyectoIndividual\\Datasets\\Venta.csv')\n",
    "compra = pd.read_csv('DS-PI-ProyectoIndividual\\Datasets\\Compra.csv')\n",
    "gasto = pd.read_csv('DS-PI-ProyectoIndividual\\Datasets\\Gasto.csv')\n",
    "cliente = pd.read_csv('DS-PI-ProyectoIndividual\\Datasets\\Clientes.csv', delimiter = ';')\n",
    "localidad = pd.read_csv('DS-PI-ProyectoIndividual\\Datasets\\localidades.csv')\n",
    "proveedor = pd.read_csv('DS-PI-ProyectoIndividual\\Datasets\\Proveedores.csv', encoding= 'latin-1')\n",
    "sucursal = pd.read_csv('DS-PI-ProyectoIndividual\\Datasets\\Sucursales.csv', delimiter = ';')"
   ]
  },
  {
   "cell_type": "markdown",
   "metadata": {},
   "source": [
    "## Reporte de calidad de los datos"
   ]
  },
  {
   "cell_type": "markdown",
   "metadata": {},
   "source": [
    "*Dataset de venta*"
   ]
  }
 ],
 "metadata": {
  "kernelspec": {
   "display_name": "Python 3.9.12 ('datascience')",
   "language": "python",
   "name": "python3"
  },
  "language_info": {
   "codemirror_mode": {
    "name": "ipython",
    "version": 3
   },
   "file_extension": ".py",
   "mimetype": "text/x-python",
   "name": "python",
   "nbconvert_exporter": "python",
   "pygments_lexer": "ipython3",
   "version": "3.9.12"
  },
  "orig_nbformat": 4,
  "vscode": {
   "interpreter": {
    "hash": "9b0261dadc93494a3555537365c322d83416c4a1ed03d5df7c77bc94b07686c8"
   }
  }
 },
 "nbformat": 4,
 "nbformat_minor": 2
}
